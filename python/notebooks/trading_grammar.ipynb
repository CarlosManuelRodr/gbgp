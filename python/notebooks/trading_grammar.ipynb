{
 "cells": [
  {
   "cell_type": "code",
   "execution_count": 1,
   "metadata": {
    "collapsed": true
   },
   "outputs": [],
   "source": [
    "from enum import Enum\n",
    "from gbgp import *"
   ]
  },
  {
   "cell_type": "code",
   "execution_count": 12,
   "outputs": [],
   "source": [
    "# The grammar terms.\n",
    "class Terms(Enum):\n",
    "    # Terminals\n",
    "    NullTerm = 1\n",
    "    LogicOp = 2\n",
    "    Not = 3\n",
    "    NumOp = 4\n",
    "    Percentile = 5\n",
    "    PriceInd = 6\n",
    "    VolumeInd = 7\n",
    "    SignedInd = 8\n",
    "    UnsignedInd = 9\n",
    "\n",
    "    # NonTerminals\n",
    "    NullNonTerm = 10\n",
    "    Conditional = 11\n",
    "    PriceExpression = 12\n",
    "    VolumeExpression = 13\n",
    "    SignedPercentageExpression = 14\n",
    "    UnsignedPercentageExpression = 15\n",
    "\n",
    "\n",
    "# Terminal declaration.\n",
    "logicOpTerm = Terminal(Terms.LogicOp.value, \"logicOp\", [\"&&\", \"||\"])\n",
    "notTerm = Terminal(Terms.Not.value, \"not\", [\"!\"])\n",
    "numOpTerm = Terminal(Terms.NumOp.value, \"numOp\", [\">\", \">=\", \"<\", \"<=\"])\n",
    "percentileTerm = Terminal(Terms.Percentile.value, \"percentile\", [\"0.05\", \"0.15\", \"0.25\", \"0.75\", \"0.85\", \"0.95\"])\n",
    "priceIndTerm = Terminal(Terms.PriceInd.value, \"priceInd\", [\"SMA\", \"EMA\"])\n",
    "volumeIndTerm = Terminal(Terms.VolumeInd.value, \"volumeInd\", [\"TradingVolume\"])\n",
    "signedIndTerm = Terminal(Terms.SignedInd.value, \"signedInd\", [\"PricePercentageChangeOpenToClose\", \"ExtensionRatio\"])\n",
    "unsignedIndTerm = Terminal(Terms.UnsignedInd.value, \"unsignedInd\", [\"ClosingBias\"])\n",
    "\n",
    "# NonTerminal declaration.\n",
    "conditionalNonTerm = NonTerminal(Terms.Conditional.value, \"Cond\")\n",
    "priceExpressionNonTerm = NonTerminal(Terms.PriceExpression.value, \"PriceExpression\")\n",
    "volumeExpressionNonTerm = NonTerminal(Terms.VolumeExpression.value, \"VolumeExpression\")\n",
    "signedPercentageExpressionNonTerm = NonTerminal(Terms.SignedPercentageExpression.value, \"SignedPercentageExpression\")\n",
    "unsignedPercentageExpressionNonTerm = NonTerminal(Terms.UnsignedPercentageExpression.value, \"UnsignedPercentageExpression\")"
   ],
   "metadata": {
    "collapsed": false
   }
  },
  {
   "cell_type": "code",
   "execution_count": 13,
   "outputs": [],
   "source": [
    "rule1 = ProductionRule(conditionalNonTerm, [\"(\", conditionalNonTerm, \") \", logicOpTerm, \" (\", conditionalNonTerm, \")\"])\n",
    "rule2 = ProductionRule(conditionalNonTerm, [notTerm, conditionalNonTerm])\n",
    "rule3 = ProductionRule(conditionalNonTerm, [priceExpressionNonTerm, \" \", numOpTerm, \" \", priceExpressionNonTerm])\n",
    "rule4 = ProductionRule(conditionalNonTerm, [volumeExpressionNonTerm, \" \", numOpTerm, \" \", volumeExpressionNonTerm])\n",
    "rule5 = ProductionRule(conditionalNonTerm, [signedPercentageExpressionNonTerm, \" \", numOpTerm, \" \", signedPercentageExpressionNonTerm])\n",
    "rule6 = ProductionRule(conditionalNonTerm, [unsignedPercentageExpressionNonTerm, \" \", numOpTerm, \" \", unsignedPercentageExpressionNonTerm])\n",
    "rule7 = ProductionRule(priceExpressionNonTerm, [\"Indicator(\\\"\", priceIndTerm, \"\\\", stock, time)\"])\n",
    "rule8 = ProductionRule(priceExpressionNonTerm, [\"IndQuantile(\\\"\", priceIndTerm, \"\\\", \", percentileTerm, \", stock, time)\"])\n",
    "rule9 = ProductionRule(volumeExpressionNonTerm, [\"Indicator(\\\"\", volumeIndTerm, \"\\\", stock, time)\"])\n",
    "rule10 = ProductionRule(volumeExpressionNonTerm, [\"IndQuantile(\\\"\", volumeIndTerm, \"\\\", \", percentileTerm, \", stock, time)\"])\n",
    "rule11 = ProductionRule(signedPercentageExpressionNonTerm, [\"Indicator(\\\"\", signedIndTerm, \"\\\", stock, time)\"])\n",
    "rule12 = ProductionRule(signedPercentageExpressionNonTerm, [\"IndQuantile(\\\"\", signedIndTerm, \"\\\", \", percentileTerm, \", stock, time)\"])\n",
    "rule13 = ProductionRule(unsignedPercentageExpressionNonTerm, [\"Indicator(\\\"\", unsignedIndTerm, \"\\\", stock, time)\"])\n",
    "rule14 = ProductionRule(unsignedPercentageExpressionNonTerm, [\"IndQuantile(\\\"\", unsignedIndTerm, \"\\\", \", percentileTerm, \", stock, time)\"])"
   ],
   "metadata": {
    "collapsed": false
   }
  },
  {
   "cell_type": "code",
   "execution_count": 14,
   "outputs": [],
   "source": [
    "grammar = Grammar([rule1, rule2, rule3, rule4, rule5, rule6, rule7, rule8, rule9, rule10, rule11, rule12, rule13, rule14])"
   ],
   "metadata": {
    "collapsed": false
   }
  },
  {
   "cell_type": "code",
   "execution_count": 15,
   "outputs": [],
   "source": [
    "ind: Individual = Individual()\n",
    "ind.CreateRandom(grammar)"
   ],
   "metadata": {
    "collapsed": false
   }
  },
  {
   "cell_type": "code",
   "execution_count": 16,
   "outputs": [
    {
     "data": {
      "text/plain": "'(!IndQuantile(\"ClosingBias\", 0.15, stock, time) >= Indicator(\"ClosingBias\", stock, time)) || (Indicator(\"PricePercentageChangeOpenToClose\", stock, time) <= IndQuantile(\"ExtensionRatio\", 0.25, stock, time))'"
     },
     "execution_count": 16,
     "metadata": {},
     "output_type": "execute_result"
    }
   ],
   "source": [
    "ind.GetExpression()"
   ],
   "metadata": {
    "collapsed": false
   }
  },
  {
   "cell_type": "code",
   "execution_count": null,
   "outputs": [],
   "source": [],
   "metadata": {
    "collapsed": false
   }
  }
 ],
 "metadata": {
  "kernelspec": {
   "display_name": "Python 3",
   "language": "python",
   "name": "python3"
  },
  "language_info": {
   "codemirror_mode": {
    "name": "ipython",
    "version": 2
   },
   "file_extension": ".py",
   "mimetype": "text/x-python",
   "name": "python",
   "nbconvert_exporter": "python",
   "pygments_lexer": "ipython2",
   "version": "2.7.6"
  }
 },
 "nbformat": 4,
 "nbformat_minor": 0
}
