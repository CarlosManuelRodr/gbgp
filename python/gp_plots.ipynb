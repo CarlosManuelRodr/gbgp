{
 "cells": [
  {
   "cell_type": "code",
   "execution_count": 1,
   "metadata": {
    "collapsed": true
   },
   "outputs": [],
   "source": [
    "from enum import Enum\n",
    "from gbgp import *"
   ]
  },
  {
   "cell_type": "code",
   "execution_count": 2,
   "outputs": [],
   "source": [
    "class Terms(Enum):\n",
    "    Var = 1\n",
    "    Plus = 2\n",
    "    Times = 3\n",
    "    LeftParenthesis = 4\n",
    "    RightParenthesis = 5\n",
    "    Expr = 6\n",
    "    Term = 7\n",
    "    Factor = 8\n",
    "\n",
    "\n",
    "varTerm = Terminal(Terms.Var.value, \"var\", [\"x\", \"y\", \"1\"])\n",
    "plusTerm = Terminal(Terms.Plus.value, \"Plus\", [\"+\"])\n",
    "timesTerm = Terminal(Terms.Times.value, \"Times\", [\"*\"])\n",
    "leftParenthesisTerm = Terminal(Terms.LeftParenthesis.value, \"LeftParenthesis\", [\"(\"])\n",
    "rightParenthesisTerm = Terminal(Terms.RightParenthesis.value, \"RightParenthesis\", [\")\"])\n",
    "\n",
    "exprNonTerm = NonTerminal(Terms.Expr.value, \"EXPR\")\n",
    "termNonTerm = NonTerminal(Terms.Term.value, \"TERM\")\n",
    "factorNonTerm = NonTerminal(Terms.Factor.value, \"FACTOR\")\n",
    "\n",
    "rule1 = ProductionRule(exprNonTerm,\n",
    "                       [\n",
    "                           ProductionElement(exprNonTerm),\n",
    "                           ProductionElement(plusTerm),\n",
    "                           ProductionElement(termNonTerm)\n",
    "                       ])\n",
    "rule2 = ProductionRule(exprNonTerm, [ProductionElement(termNonTerm)])\n",
    "rule3 = ProductionRule(termNonTerm,\n",
    "                       [\n",
    "                           ProductionElement(termNonTerm),\n",
    "                           ProductionElement(timesTerm),\n",
    "                           ProductionElement(factorNonTerm)\n",
    "                       ])\n",
    "rule4 = ProductionRule(termNonTerm, [ProductionElement(factorNonTerm)])\n",
    "rule5 = ProductionRule(factorNonTerm,\n",
    "                       [\n",
    "                           ProductionElement(leftParenthesisTerm),\n",
    "                           ProductionElement(exprNonTerm),\n",
    "                           ProductionElement(rightParenthesisTerm)\n",
    "                       ])\n",
    "rule6 = ProductionRule(factorNonTerm, [ProductionElement(varTerm)])\n",
    "\n",
    "grammar = Grammar([rule1, rule2, rule3, rule4, rule5, rule6])"
   ],
   "metadata": {
    "collapsed": false
   }
  },
  {
   "cell_type": "code",
   "execution_count": 3,
   "outputs": [],
   "source": [
    "tree = SyntaxTree(\n",
    "    TreeNode(\n",
    "        rule2,\n",
    "        exprNonTerm,\n",
    "        [\n",
    "            TreeNode(\n",
    "                rule3,\n",
    "                termNonTerm,\n",
    "                [\n",
    "                    TreeNode(\n",
    "                        rule4,\n",
    "                        termNonTerm,\n",
    "                        [\n",
    "                            TreeNode(\n",
    "                                rule6,\n",
    "                                factorNonTerm,\n",
    "                                [\n",
    "                                    TreeNode(varTerm, \"a\")\n",
    "                                ])\n",
    "                        ]),\n",
    "                    TreeNode(timesTerm, \"*\"),\n",
    "                    TreeNode(\n",
    "                        rule5,\n",
    "                        factorNonTerm,\n",
    "                        [\n",
    "                            TreeNode(leftParenthesisTerm, \"(\"),\n",
    "                            TreeNode(\n",
    "                                rule2,\n",
    "                                exprNonTerm,\n",
    "                                [\n",
    "                                    TreeNode(\n",
    "                                        rule4,\n",
    "                                        termNonTerm,\n",
    "                                        [\n",
    "                                            TreeNode(\n",
    "                                                rule6,\n",
    "                                                factorNonTerm,\n",
    "                                                [\n",
    "                                                    TreeNode(varTerm, \"b\")\n",
    "                                                ])\n",
    "                                        ])\n",
    "                                ]),\n",
    "                            TreeNode(rightParenthesisTerm, \")\")\n",
    "                        ])\n",
    "                ])\n",
    "        ])\n",
    ")"
   ],
   "metadata": {
    "collapsed": false
   }
  },
  {
   "cell_type": "code",
   "execution_count": 4,
   "outputs": [],
   "source": [
    "graph = tree.ToGraph()"
   ],
   "metadata": {
    "collapsed": false
   }
  },
  {
   "cell_type": "code",
   "execution_count": 5,
   "outputs": [],
   "source": [
    "nodes = graph.GetNodeIndexes()\n",
    "edges = graph.GetEdges()\n",
    "labels = graph.GetLabels()"
   ],
   "metadata": {
    "collapsed": false
   }
  },
  {
   "cell_type": "code",
   "execution_count": 9,
   "outputs": [
    {
     "data": {
      "text/plain": "{0: 'EXPR',\n 1: 'TERM',\n 2: 'TERM',\n 3: 'FACTOR',\n 4: 'var [a]',\n 5: 'Times [*]',\n 6: 'FACTOR',\n 7: 'LeftParenthesis [(]',\n 8: 'EXPR',\n 9: 'TERM',\n 10: 'FACTOR',\n 11: 'var [b]',\n 12: 'RightParenthesis [)]'}"
     },
     "execution_count": 9,
     "metadata": {},
     "output_type": "execute_result"
    }
   ],
   "source": [
    "labels"
   ],
   "metadata": {
    "collapsed": false
   }
  },
  {
   "cell_type": "code",
   "execution_count": 10,
   "outputs": [],
   "source": [
    "import matplotlib.pyplot as plt\n",
    "import networkx as nx\n",
    "from networkx.drawing.nx_agraph import graphviz_layout"
   ],
   "metadata": {
    "collapsed": false
   }
  },
  {
   "cell_type": "code",
   "execution_count": 11,
   "outputs": [
    {
     "data": {
      "text/plain": "<Figure size 640x480 with 1 Axes>",
      "image/png": "[encoded data removed]"
     },
     "metadata": {},
     "output_type": "display_data"
    }
   ],
   "source": [
    "g = nx.Graph()\n",
    "g.add_nodes_from(nodes)\n",
    "g.add_edges_from(edges)\n",
    "pos = graphviz_layout(g, prog=\"dot\")\n",
    "\n",
    "nx.draw_networkx_nodes(g, pos)\n",
    "nx.draw_networkx_edges(g, pos)\n",
    "nx.draw_networkx_labels(g, pos, labels)\n",
    "plt.show()"
   ],
   "metadata": {
    "collapsed": false
   }
  },
  {
   "cell_type": "code",
   "execution_count": null,
   "outputs": [],
   "source": [],
   "metadata": {
    "collapsed": false
   }
  }
 ],
 "metadata": {
  "kernelspec": {
   "display_name": "Python 3",
   "language": "python",
   "name": "python3"
  },
  "language_info": {
   "codemirror_mode": {
    "name": "ipython",
    "version": 2
   },
   "file_extension": ".py",
   "mimetype": "text/x-python",
   "name": "python",
   "nbconvert_exporter": "python",
   "pygments_lexer": "ipython2",
   "version": "2.7.6"
  }
 },
 "nbformat": 4,
 "nbformat_minor": 0
}
