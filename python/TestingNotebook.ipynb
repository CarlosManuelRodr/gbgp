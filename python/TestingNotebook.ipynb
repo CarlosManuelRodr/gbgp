{
 "cells": [
  {
   "cell_type": "code",
   "execution_count": 1,
   "id": "42adae48",
   "metadata": {},
   "outputs": [],
   "source": [
    "import gbgp"
   ]
  },
  {
   "cell_type": "code",
   "execution_count": 2,
   "id": "a337a930",
   "metadata": {},
   "outputs": [],
   "source": [
    "from enum import Enum"
   ]
  },
  {
   "cell_type": "code",
   "execution_count": 3,
   "id": "f76be15f",
   "metadata": {},
   "outputs": [],
   "source": [
    "class Terms(Enum):\n",
    "    Var = 1\n",
    "    Plus = 2\n",
    "    Times = 3\n",
    "    LeftParenthesis = 4\n",
    "    RightParenthesis = 5\n",
    "    Expr = 6\n",
    "    Term = 7\n",
    "    Factor = 8"
   ]
  },
  {
   "cell_type": "code",
   "execution_count": 4,
   "id": "9309f9c6",
   "metadata": {},
   "outputs": [],
   "source": [
    "varTerm = gbgp.Terminal(Terms.Var.value, \"var\", [\"x\", \"y\", \"1\"])\n",
    "plusTerm = gbgp.Terminal(Terms.Plus.value, \"Plus\", [\"+\"])\n",
    "timesTerm = gbgp.Terminal(Terms.Times.value, \"Times\", [\"*\"])\n",
    "leftParenthesisTerm = gbgp.Terminal(Terms.LeftParenthesis.value, \"LeftParenthesis\", [\"(\"])\n",
    "rightParenthesisTerm = gbgp.Terminal(Terms.RightParenthesis.value, \"RightParenthesis\", [\")\"])"
   ]
  },
  {
   "cell_type": "code",
   "execution_count": 5,
   "id": "42d11cf0",
   "metadata": {},
   "outputs": [],
   "source": [
    "exprNonTerm = gbgp.NonTerminal(Terms.Expr.value, \"EXPR\")\n",
    "termNonTerm = gbgp.NonTerminal(Terms.Term.value, \"TERM\")\n",
    "factorNonTerm = gbgp.NonTerminal(Terms.Factor.value, \"FACTOR\")"
   ]
  },
  {
   "cell_type": "code",
   "execution_count": 6,
   "id": "d4e68462",
   "metadata": {},
   "outputs": [],
   "source": [
    "rule1 = gbgp.ProductionRule(exprNonTerm,\n",
    "                            [gbgp.ProductionElement(termNonTerm),\n",
    "                             gbgp.ProductionElement(plusTerm),\n",
    "                             gbgp.ProductionElement(termNonTerm)])\n",
    "rule2 = gbgp.ProductionRule(exprNonTerm, [gbgp.ProductionElement(termNonTerm)])\n",
    "rule3 = gbgp.ProductionRule(termNonTerm,\n",
    "                            [gbgp.ProductionElement(termNonTerm),\n",
    "                             gbgp.ProductionElement(timesTerm),\n",
    "                             gbgp.ProductionElement(factorNonTerm)])\n",
    "rule4 = gbgp.ProductionRule(termNonTerm, [gbgp.ProductionElement(factorNonTerm)])\n",
    "rule5 = gbgp.ProductionRule(factorNonTerm,\n",
    "                            [gbgp.ProductionElement(leftParenthesisTerm),\n",
    "                             gbgp.ProductionElement(exprNonTerm),\n",
    "                             gbgp.ProductionElement(rightParenthesisTerm)])\n",
    "rule6 = gbgp.ProductionRule(factorNonTerm, [gbgp.ProductionElement(varTerm)])"
   ]
  },
  {
   "cell_type": "code",
   "execution_count": 7,
   "id": "f297a3e0",
   "metadata": {},
   "outputs": [],
   "source": [
    "grammar = gbgp.Grammar([rule1, rule2, rule3, rule4, rule5, rule6])"
   ]
  },
  {
   "cell_type": "code",
   "execution_count": 8,
   "id": "fa03ef0f",
   "metadata": {},
   "outputs": [],
   "source": [
    "tree = gbgp.SyntaxTree()\n",
    "grammar.CreateRandomTree(tree, 100)"
   ]
  },
  {
   "cell_type": "code",
   "execution_count": 9,
   "id": "45b082f1",
   "metadata": {},
   "outputs": [],
   "source": [
    "def evaluate_tree(arg: str) -> str:\n",
    "    return arg"
   ]
  },
  {
   "cell_type": "code",
   "execution_count": 11,
   "id": "8a275cb1",
   "metadata": {},
   "outputs": [],
   "source": [
    "result = tree.Evaluate(evaluate_tree)"
   ]
  },
  {
   "cell_type": "code",
   "execution_count": 12,
   "id": "8dacacb1",
   "metadata": {},
   "outputs": [
    {
     "data": {
      "text/plain": [
       "'1*1+1'"
      ]
     },
     "execution_count": 12,
     "metadata": {},
     "output_type": "execute_result"
    }
   ],
   "source": [
    "result"
   ]
  },
  {
   "cell_type": "code",
   "execution_count": 13,
   "id": "bfa2d8b2",
   "metadata": {},
   "outputs": [
    {
     "name": "stdout",
     "output_type": "stream",
     "text": [
      "<gbgp.SyntaxTree '\n",
      "|EXPR\n",
      "|-TERM\n",
      "|--TERM\n",
      "|---FACTOR\n",
      "|----var [1]\n",
      "|--Times [*]\n",
      "|--FACTOR\n",
      "|---var [1]\n",
      "|-Plus [+]\n",
      "|-TERM\n",
      "|--FACTOR\n",
      "|---var [1]\n",
      "'>\n"
     ]
    }
   ],
   "source": [
    "print(tree)"
   ]
  },
  {
   "cell_type": "code",
   "execution_count": null,
   "id": "35109628",
   "metadata": {},
   "outputs": [],
   "source": []
  }
 ],
 "metadata": {
  "kernelspec": {
   "display_name": "Python 3 (ipykernel)",
   "language": "python",
   "name": "python3"
  },
  "language_info": {
   "codemirror_mode": {
    "name": "ipython",
    "version": 3
   },
   "file_extension": ".py",
   "mimetype": "text/x-python",
   "name": "python",
   "nbconvert_exporter": "python",
   "pygments_lexer": "ipython3",
   "version": "3.10.8"
  }
 },
 "nbformat": 4,
 "nbformat_minor": 5
}
