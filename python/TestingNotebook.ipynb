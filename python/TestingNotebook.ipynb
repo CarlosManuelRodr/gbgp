{
 "cells": [
  {
   "cell_type": "code",
   "execution_count": 1,
   "id": "42adae48",
   "metadata": {},
   "outputs": [],
   "source": [
    "import gbgp"
   ]
  },
  {
   "cell_type": "code",
   "execution_count": 2,
   "id": "a337a930",
   "metadata": {},
   "outputs": [],
   "source": [
    "from enum import Enum"
   ]
  },
  {
   "cell_type": "code",
   "execution_count": 4,
   "id": "f76be15f",
   "metadata": {},
   "outputs": [],
   "source": [
    "class Terms(Enum):\n",
    "    Var = 1\n",
    "    Plus = 2\n",
    "    Times = 3\n",
    "    LeftParenthesis = 4\n",
    "    RightParenthesis = 5\n",
    "    Expr = 6\n",
    "    Term = 7\n",
    "    Factor = 8"
   ]
  },
  {
   "cell_type": "code",
   "execution_count": 9,
   "id": "1df1afd1",
   "metadata": {},
   "outputs": [
    {
     "data": {
      "text/plain": [
       "3"
      ]
     },
     "execution_count": 9,
     "metadata": {},
     "output_type": "execute_result"
    }
   ],
   "source": [
    "Terms.Times.value"
   ]
  },
  {
   "cell_type": "code",
   "execution_count": 14,
   "id": "9309f9c6",
   "metadata": {},
   "outputs": [],
   "source": [
    "varTerm = gbgp.Terminal(Terms.Var.value, \"var\", [\"x\", \"y\", \"1\"])\n",
    "plusTerm = gbgp.Terminal(Terms.Plus.value, \"Plus\", [\"+\"])\n",
    "timesTerm = gbgp.Terminal(Terms.Times.value, \"Times\", [\"*\"])\n",
    "leftParenthesisTerm = gbgp.Terminal(Terms.LeftParenthesis.value, \"LeftParenthesis\", [\"(\"])\n",
    "rightParenthesisTerm = gbgp.Terminal(Terms.RightParenthesis.value, \"RightParenthesis\", [\")\"])"
   ]
  },
  {
   "cell_type": "code",
   "execution_count": 16,
   "id": "42d11cf0",
   "metadata": {},
   "outputs": [],
   "source": [
    "exprNonTerm = gbgp.NonTerminal(Terms.Expr.value, \"EXPR\")\n",
    "termNonTerm = gbgp.NonTerminal(Terms.Term.value, \"TERM\")\n",
    "factorNonTerm = gbgp.NonTerminal(Terms.Factor.value, \"FACTOR\")"
   ]
  },
  {
   "cell_type": "code",
   "execution_count": 17,
   "id": "d4e68462",
   "metadata": {},
   "outputs": [
    {
     "name": "stdout",
     "output_type": "stream",
     "text": [
      "Help on class ProductionRule in module gbgp:\n",
      "\n",
      "class ProductionRule(pybind11_builtins.pybind11_object)\n",
      " |  Method resolution order:\n",
      " |      ProductionRule\n",
      " |      pybind11_builtins.pybind11_object\n",
      " |      builtins.object\n",
      " |  \n",
      " |  Methods defined here:\n",
      " |  \n",
      " |  GetFrom(...)\n",
      " |      GetFrom(self: gbgp.ProductionRule) -> gbgp.NonTerminal\n",
      " |  \n",
      " |  GetSemanticAction(...)\n",
      " |      GetSemanticAction(self: gbgp.ProductionRule) -> std::function<void (EvaluationContext*)>\n",
      " |  \n",
      " |  GetSemanticRules(...)\n",
      " |      GetSemanticRules(self: gbgp.ProductionRule) -> List[gbgp.SemanticElement]\n",
      " |  \n",
      " |  GetTo(...)\n",
      " |      GetTo(self: gbgp.ProductionRule) -> List[gbgp.ProductionElement]\n",
      " |  \n",
      " |  NumberOfRules(...)\n",
      " |      NumberOfProductionElements(self: gbgp.ProductionRule) -> int\n",
      " |  \n",
      " |  ToString(...)\n",
      " |      ToString(self: gbgp.ProductionRule) -> str\n",
      " |  \n",
      " |  __init__(...)\n",
      " |      __init__(*args, **kwargs)\n",
      " |      Overloaded function.\n",
      " |      \n",
      " |      1. __init__(self: gbgp.ProductionRule) -> None\n",
      " |      \n",
      " |      2. __init__(self: gbgp.ProductionRule, arg0: gbgp.NonTerminal, arg1: List[gbgp.ProductionElement], arg2: List[gbgp.SemanticElement]) -> None\n",
      " |      \n",
      " |      3. __init__(self: gbgp.ProductionRule, arg0: gbgp.NonTerminal, arg1: List[gbgp.ProductionElement], arg2: List[gbgp.SemanticElement], arg3: std::function<void (EvaluationContext*)>) -> None\n",
      " |  \n",
      " |  __repr__(...)\n",
      " |      __repr__(self: gbgp.ProductionRule) -> str\n",
      " |  \n",
      " |  ----------------------------------------------------------------------\n",
      " |  Static methods inherited from pybind11_builtins.pybind11_object:\n",
      " |  \n",
      " |  __new__(*args, **kwargs) from pybind11_builtins.pybind11_type\n",
      " |      Create and return a new object.  See help(type) for accurate signature.\n",
      "\n"
     ]
    }
   ],
   "source": [
    "help(gbgp.ProductionRule)"
   ]
  },
  {
   "cell_type": "code",
   "execution_count": null,
   "id": "f297a3e0",
   "metadata": {},
   "outputs": [],
   "source": []
  }
 ],
 "metadata": {
  "kernelspec": {
   "display_name": "Python 3 (ipykernel)",
   "language": "python",
   "name": "python3"
  },
  "language_info": {
   "codemirror_mode": {
    "name": "ipython",
    "version": 3
   },
   "file_extension": ".py",
   "mimetype": "text/x-python",
   "name": "python",
   "nbconvert_exporter": "python",
   "pygments_lexer": "ipython3",
   "version": "3.10.5"
  }
 },
 "nbformat": 4,
 "nbformat_minor": 5
}
